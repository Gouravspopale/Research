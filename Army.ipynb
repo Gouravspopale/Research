{
 "cells": [
  {
   "cell_type": "markdown",
   "metadata": {},
   "source": [
    "Army Dataset,"
   ]
  },
  {
   "cell_type": "code",
   "execution_count": 2,
   "metadata": {},
   "outputs": [
    {
     "data": {
      "text/html": [
       "<div>\n",
       "<style scoped>\n",
       "    .dataframe tbody tr th:only-of-type {\n",
       "        vertical-align: middle;\n",
       "    }\n",
       "\n",
       "    .dataframe tbody tr th {\n",
       "        vertical-align: top;\n",
       "    }\n",
       "\n",
       "    .dataframe thead th {\n",
       "        text-align: right;\n",
       "    }\n",
       "</style>\n",
       "<table border=\"1\" class=\"dataframe\">\n",
       "  <thead>\n",
       "    <tr style=\"text-align: right;\">\n",
       "      <th></th>\n",
       "      <th>country</th>\n",
       "      <th>activeDuty</th>\n",
       "      <th>paramilitary</th>\n",
       "      <th>reserves</th>\n",
       "      <th>total</th>\n",
       "      <th>population2022</th>\n",
       "    </tr>\n",
       "  </thead>\n",
       "  <tbody>\n",
       "    <tr>\n",
       "      <th>0</th>\n",
       "      <td>China</td>\n",
       "      <td>2185000</td>\n",
       "      <td>660000</td>\n",
       "      <td>1170000</td>\n",
       "      <td>4015000</td>\n",
       "      <td>1448471.400</td>\n",
       "    </tr>\n",
       "    <tr>\n",
       "      <th>1</th>\n",
       "      <td>India</td>\n",
       "      <td>1455550</td>\n",
       "      <td>2526950</td>\n",
       "      <td>1155000</td>\n",
       "      <td>5137500</td>\n",
       "      <td>1406631.776</td>\n",
       "    </tr>\n",
       "    <tr>\n",
       "      <th>2</th>\n",
       "      <td>United States</td>\n",
       "      <td>1388100</td>\n",
       "      <td>0</td>\n",
       "      <td>844950</td>\n",
       "      <td>2233050</td>\n",
       "      <td>334805.269</td>\n",
       "    </tr>\n",
       "    <tr>\n",
       "      <th>3</th>\n",
       "      <td>North Korea</td>\n",
       "      <td>1280000</td>\n",
       "      <td>5889000</td>\n",
       "      <td>600000</td>\n",
       "      <td>7769000</td>\n",
       "      <td>25990.679</td>\n",
       "    </tr>\n",
       "    <tr>\n",
       "      <th>4</th>\n",
       "      <td>Russia</td>\n",
       "      <td>1014000</td>\n",
       "      <td>554000</td>\n",
       "      <td>2000000</td>\n",
       "      <td>3568000</td>\n",
       "      <td>145805.947</td>\n",
       "    </tr>\n",
       "    <tr>\n",
       "      <th>...</th>\n",
       "      <td>...</td>\n",
       "      <td>...</td>\n",
       "      <td>...</td>\n",
       "      <td>...</td>\n",
       "      <td>...</td>\n",
       "      <td>...</td>\n",
       "    </tr>\n",
       "    <tr>\n",
       "      <th>163</th>\n",
       "      <td>Haiti</td>\n",
       "      <td>150</td>\n",
       "      <td>50</td>\n",
       "      <td>0</td>\n",
       "      <td>200</td>\n",
       "      <td>11680.283</td>\n",
       "    </tr>\n",
       "    <tr>\n",
       "      <th>164</th>\n",
       "      <td>Iceland</td>\n",
       "      <td>0</td>\n",
       "      <td>250</td>\n",
       "      <td>0</td>\n",
       "      <td>250</td>\n",
       "      <td>345.393</td>\n",
       "    </tr>\n",
       "    <tr>\n",
       "      <th>165</th>\n",
       "      <td>Mauritius</td>\n",
       "      <td>0</td>\n",
       "      <td>2550</td>\n",
       "      <td>0</td>\n",
       "      <td>2550</td>\n",
       "      <td>1274.727</td>\n",
       "    </tr>\n",
       "    <tr>\n",
       "      <th>166</th>\n",
       "      <td>Costa Rica</td>\n",
       "      <td>0</td>\n",
       "      <td>9800</td>\n",
       "      <td>0</td>\n",
       "      <td>9800</td>\n",
       "      <td>5182.354</td>\n",
       "    </tr>\n",
       "    <tr>\n",
       "      <th>167</th>\n",
       "      <td>Panama</td>\n",
       "      <td>0</td>\n",
       "      <td>26000</td>\n",
       "      <td>0</td>\n",
       "      <td>26000</td>\n",
       "      <td>4446.964</td>\n",
       "    </tr>\n",
       "  </tbody>\n",
       "</table>\n",
       "<p>168 rows × 6 columns</p>\n",
       "</div>"
      ],
      "text/plain": [
       "           country  activeDuty  paramilitary  reserves    total  \\\n",
       "0            China     2185000        660000   1170000  4015000   \n",
       "1            India     1455550       2526950   1155000  5137500   \n",
       "2    United States     1388100             0    844950  2233050   \n",
       "3      North Korea     1280000       5889000    600000  7769000   \n",
       "4           Russia     1014000        554000   2000000  3568000   \n",
       "..             ...         ...           ...       ...      ...   \n",
       "163          Haiti         150            50         0      200   \n",
       "164        Iceland           0           250         0      250   \n",
       "165      Mauritius           0          2550         0     2550   \n",
       "166     Costa Rica           0          9800         0     9800   \n",
       "167         Panama           0         26000         0    26000   \n",
       "\n",
       "     population2022  \n",
       "0       1448471.400  \n",
       "1       1406631.776  \n",
       "2        334805.269  \n",
       "3         25990.679  \n",
       "4        145805.947  \n",
       "..              ...  \n",
       "163       11680.283  \n",
       "164         345.393  \n",
       "165        1274.727  \n",
       "166        5182.354  \n",
       "167        4446.964  \n",
       "\n",
       "[168 rows x 6 columns]"
      ]
     },
     "execution_count": 2,
     "metadata": {},
     "output_type": "execute_result"
    }
   ],
   "source": [
    "import pandas as pd\n",
    "\n",
    "Army=pd.read_csv(\"C:/Users/91843/Desktop/Research/Dataset/army-total-world.csv\")\n",
    "Army"
   ]
  },
  {
   "cell_type": "markdown",
   "metadata": {},
   "source": [
    "# Exploring Data\n"
   ]
  },
  {
   "cell_type": "markdown",
   "metadata": {},
   "source": [
    "Observation of Dataset"
   ]
  },
  {
   "cell_type": "code",
   "execution_count": 3,
   "metadata": {},
   "outputs": [
    {
     "data": {
      "text/html": [
       "<div>\n",
       "<style scoped>\n",
       "    .dataframe tbody tr th:only-of-type {\n",
       "        vertical-align: middle;\n",
       "    }\n",
       "\n",
       "    .dataframe tbody tr th {\n",
       "        vertical-align: top;\n",
       "    }\n",
       "\n",
       "    .dataframe thead th {\n",
       "        text-align: right;\n",
       "    }\n",
       "</style>\n",
       "<table border=\"1\" class=\"dataframe\">\n",
       "  <thead>\n",
       "    <tr style=\"text-align: right;\">\n",
       "      <th></th>\n",
       "      <th>country</th>\n",
       "      <th>activeDuty</th>\n",
       "      <th>paramilitary</th>\n",
       "      <th>reserves</th>\n",
       "      <th>total</th>\n",
       "      <th>population2022</th>\n",
       "    </tr>\n",
       "  </thead>\n",
       "  <tbody>\n",
       "    <tr>\n",
       "      <th>0</th>\n",
       "      <td>China</td>\n",
       "      <td>2185000</td>\n",
       "      <td>660000</td>\n",
       "      <td>1170000</td>\n",
       "      <td>4015000</td>\n",
       "      <td>1448471.400</td>\n",
       "    </tr>\n",
       "    <tr>\n",
       "      <th>1</th>\n",
       "      <td>India</td>\n",
       "      <td>1455550</td>\n",
       "      <td>2526950</td>\n",
       "      <td>1155000</td>\n",
       "      <td>5137500</td>\n",
       "      <td>1406631.776</td>\n",
       "    </tr>\n",
       "    <tr>\n",
       "      <th>2</th>\n",
       "      <td>United States</td>\n",
       "      <td>1388100</td>\n",
       "      <td>0</td>\n",
       "      <td>844950</td>\n",
       "      <td>2233050</td>\n",
       "      <td>334805.269</td>\n",
       "    </tr>\n",
       "    <tr>\n",
       "      <th>3</th>\n",
       "      <td>North Korea</td>\n",
       "      <td>1280000</td>\n",
       "      <td>5889000</td>\n",
       "      <td>600000</td>\n",
       "      <td>7769000</td>\n",
       "      <td>25990.679</td>\n",
       "    </tr>\n",
       "    <tr>\n",
       "      <th>4</th>\n",
       "      <td>Russia</td>\n",
       "      <td>1014000</td>\n",
       "      <td>554000</td>\n",
       "      <td>2000000</td>\n",
       "      <td>3568000</td>\n",
       "      <td>145805.947</td>\n",
       "    </tr>\n",
       "  </tbody>\n",
       "</table>\n",
       "</div>"
      ],
      "text/plain": [
       "         country  activeDuty  paramilitary  reserves    total  population2022\n",
       "0          China     2185000        660000   1170000  4015000     1448471.400\n",
       "1          India     1455550       2526950   1155000  5137500     1406631.776\n",
       "2  United States     1388100             0    844950  2233050      334805.269\n",
       "3    North Korea     1280000       5889000    600000  7769000       25990.679\n",
       "4         Russia     1014000        554000   2000000  3568000      145805.947"
      ]
     },
     "execution_count": 3,
     "metadata": {},
     "output_type": "execute_result"
    }
   ],
   "source": [
    "# Prints first n rows of the DataFrame\n",
    "Army.head()"
   ]
  },
  {
   "cell_type": "code",
   "execution_count": 4,
   "metadata": {},
   "outputs": [
    {
     "data": {
      "text/html": [
       "<div>\n",
       "<style scoped>\n",
       "    .dataframe tbody tr th:only-of-type {\n",
       "        vertical-align: middle;\n",
       "    }\n",
       "\n",
       "    .dataframe tbody tr th {\n",
       "        vertical-align: top;\n",
       "    }\n",
       "\n",
       "    .dataframe thead th {\n",
       "        text-align: right;\n",
       "    }\n",
       "</style>\n",
       "<table border=\"1\" class=\"dataframe\">\n",
       "  <thead>\n",
       "    <tr style=\"text-align: right;\">\n",
       "      <th></th>\n",
       "      <th>country</th>\n",
       "      <th>activeDuty</th>\n",
       "      <th>paramilitary</th>\n",
       "      <th>reserves</th>\n",
       "      <th>total</th>\n",
       "      <th>population2022</th>\n",
       "    </tr>\n",
       "  </thead>\n",
       "  <tbody>\n",
       "    <tr>\n",
       "      <th>163</th>\n",
       "      <td>Haiti</td>\n",
       "      <td>150</td>\n",
       "      <td>50</td>\n",
       "      <td>0</td>\n",
       "      <td>200</td>\n",
       "      <td>11680.283</td>\n",
       "    </tr>\n",
       "    <tr>\n",
       "      <th>164</th>\n",
       "      <td>Iceland</td>\n",
       "      <td>0</td>\n",
       "      <td>250</td>\n",
       "      <td>0</td>\n",
       "      <td>250</td>\n",
       "      <td>345.393</td>\n",
       "    </tr>\n",
       "    <tr>\n",
       "      <th>165</th>\n",
       "      <td>Mauritius</td>\n",
       "      <td>0</td>\n",
       "      <td>2550</td>\n",
       "      <td>0</td>\n",
       "      <td>2550</td>\n",
       "      <td>1274.727</td>\n",
       "    </tr>\n",
       "    <tr>\n",
       "      <th>166</th>\n",
       "      <td>Costa Rica</td>\n",
       "      <td>0</td>\n",
       "      <td>9800</td>\n",
       "      <td>0</td>\n",
       "      <td>9800</td>\n",
       "      <td>5182.354</td>\n",
       "    </tr>\n",
       "    <tr>\n",
       "      <th>167</th>\n",
       "      <td>Panama</td>\n",
       "      <td>0</td>\n",
       "      <td>26000</td>\n",
       "      <td>0</td>\n",
       "      <td>26000</td>\n",
       "      <td>4446.964</td>\n",
       "    </tr>\n",
       "  </tbody>\n",
       "</table>\n",
       "</div>"
      ],
      "text/plain": [
       "        country  activeDuty  paramilitary  reserves  total  population2022\n",
       "163       Haiti         150            50         0    200       11680.283\n",
       "164     Iceland           0           250         0    250         345.393\n",
       "165   Mauritius           0          2550         0   2550        1274.727\n",
       "166  Costa Rica           0          9800         0   9800        5182.354\n",
       "167      Panama           0         26000         0  26000        4446.964"
      ]
     },
     "execution_count": 4,
     "metadata": {},
     "output_type": "execute_result"
    }
   ],
   "source": [
    "# Print the last 5 rows\n",
    "Army.tail()"
   ]
  },
  {
   "cell_type": "code",
   "execution_count": 5,
   "metadata": {},
   "outputs": [
    {
     "data": {
      "text/plain": [
       "(168, 6)"
      ]
     },
     "execution_count": 5,
     "metadata": {},
     "output_type": "execute_result"
    }
   ],
   "source": [
    "# Prints the number of rows as well as columns in a data frame\n",
    "Army.shape"
   ]
  },
  {
   "cell_type": "code",
   "execution_count": 6,
   "metadata": {},
   "outputs": [
    {
     "name": "stdout",
     "output_type": "stream",
     "text": [
      "<class 'pandas.core.frame.DataFrame'>\n",
      "RangeIndex: 168 entries, 0 to 167\n",
      "Data columns (total 6 columns):\n",
      " #   Column          Non-Null Count  Dtype  \n",
      "---  ------          --------------  -----  \n",
      " 0   country         168 non-null    object \n",
      " 1   activeDuty      168 non-null    int64  \n",
      " 2   paramilitary    168 non-null    int64  \n",
      " 3   reserves        168 non-null    int64  \n",
      " 4   total           168 non-null    int64  \n",
      " 5   population2022  168 non-null    float64\n",
      "dtypes: float64(1), int64(4), object(1)\n",
      "memory usage: 8.0+ KB\n"
     ]
    }
   ],
   "source": [
    "# Index, Datatype, and Memory details\n",
    "Army.info()"
   ]
  },
  {
   "cell_type": "code",
   "execution_count": 7,
   "metadata": {},
   "outputs": [
    {
     "data": {
      "text/html": [
       "<div>\n",
       "<style scoped>\n",
       "    .dataframe tbody tr th:only-of-type {\n",
       "        vertical-align: middle;\n",
       "    }\n",
       "\n",
       "    .dataframe tbody tr th {\n",
       "        vertical-align: top;\n",
       "    }\n",
       "\n",
       "    .dataframe thead th {\n",
       "        text-align: right;\n",
       "    }\n",
       "</style>\n",
       "<table border=\"1\" class=\"dataframe\">\n",
       "  <thead>\n",
       "    <tr style=\"text-align: right;\">\n",
       "      <th></th>\n",
       "      <th>activeDuty</th>\n",
       "      <th>paramilitary</th>\n",
       "      <th>reserves</th>\n",
       "      <th>total</th>\n",
       "      <th>population2022</th>\n",
       "    </tr>\n",
       "  </thead>\n",
       "  <tbody>\n",
       "    <tr>\n",
       "      <th>count</th>\n",
       "      <td>1.680000e+02</td>\n",
       "      <td>1.680000e+02</td>\n",
       "      <td>1.680000e+02</td>\n",
       "      <td>1.680000e+02</td>\n",
       "      <td>1.680000e+02</td>\n",
       "    </tr>\n",
       "    <tr>\n",
       "      <th>mean</th>\n",
       "      <td>1.199320e+05</td>\n",
       "      <td>1.437658e+05</td>\n",
       "      <td>1.494214e+05</td>\n",
       "      <td>4.131192e+05</td>\n",
       "      <td>4.713149e+04</td>\n",
       "    </tr>\n",
       "    <tr>\n",
       "      <th>std</th>\n",
       "      <td>2.733041e+05</td>\n",
       "      <td>6.704519e+05</td>\n",
       "      <td>5.244440e+05</td>\n",
       "      <td>1.272817e+06</td>\n",
       "      <td>1.601753e+05</td>\n",
       "    </tr>\n",
       "    <tr>\n",
       "      <th>min</th>\n",
       "      <td>0.000000e+00</td>\n",
       "      <td>0.000000e+00</td>\n",
       "      <td>0.000000e+00</td>\n",
       "      <td>2.000000e+02</td>\n",
       "      <td>9.942600e+01</td>\n",
       "    </tr>\n",
       "    <tr>\n",
       "      <th>25%</th>\n",
       "      <td>9.412500e+03</td>\n",
       "      <td>0.000000e+00</td>\n",
       "      <td>0.000000e+00</td>\n",
       "      <td>1.441250e+04</td>\n",
       "      <td>4.300066e+03</td>\n",
       "    </tr>\n",
       "    <tr>\n",
       "      <th>50%</th>\n",
       "      <td>2.732500e+04</td>\n",
       "      <td>5.400000e+03</td>\n",
       "      <td>4.000000e+01</td>\n",
       "      <td>5.745000e+04</td>\n",
       "      <td>1.118101e+04</td>\n",
       "    </tr>\n",
       "    <tr>\n",
       "      <th>75%</th>\n",
       "      <td>1.233250e+05</td>\n",
       "      <td>3.131250e+04</td>\n",
       "      <td>5.270000e+04</td>\n",
       "      <td>2.521250e+05</td>\n",
       "      <td>3.454340e+04</td>\n",
       "    </tr>\n",
       "    <tr>\n",
       "      <th>max</th>\n",
       "      <td>2.185000e+06</td>\n",
       "      <td>5.889000e+06</td>\n",
       "      <td>5.000000e+06</td>\n",
       "      <td>1.052200e+07</td>\n",
       "      <td>1.448471e+06</td>\n",
       "    </tr>\n",
       "  </tbody>\n",
       "</table>\n",
       "</div>"
      ],
      "text/plain": [
       "         activeDuty  paramilitary      reserves         total  population2022\n",
       "count  1.680000e+02  1.680000e+02  1.680000e+02  1.680000e+02    1.680000e+02\n",
       "mean   1.199320e+05  1.437658e+05  1.494214e+05  4.131192e+05    4.713149e+04\n",
       "std    2.733041e+05  6.704519e+05  5.244440e+05  1.272817e+06    1.601753e+05\n",
       "min    0.000000e+00  0.000000e+00  0.000000e+00  2.000000e+02    9.942600e+01\n",
       "25%    9.412500e+03  0.000000e+00  0.000000e+00  1.441250e+04    4.300066e+03\n",
       "50%    2.732500e+04  5.400000e+03  4.000000e+01  5.745000e+04    1.118101e+04\n",
       "75%    1.233250e+05  3.131250e+04  5.270000e+04  2.521250e+05    3.454340e+04\n",
       "max    2.185000e+06  5.889000e+06  5.000000e+06  1.052200e+07    1.448471e+06"
      ]
     },
     "execution_count": 7,
     "metadata": {},
     "output_type": "execute_result"
    }
   ],
   "source": [
    "# Summary statistics for numerical columns\n",
    "Army.describe()"
   ]
  },
  {
   "cell_type": "markdown",
   "metadata": {},
   "source": [
    "# MEAN"
   ]
  },
  {
   "cell_type": "code",
   "execution_count": 8,
   "metadata": {},
   "outputs": [
    {
     "name": "stdout",
     "output_type": "stream",
     "text": [
      "Mean of 'activeDuty' column: 119931.96428571429\n"
     ]
    }
   ],
   "source": [
    "df = pd.DataFrame(Army)\n",
    "\n",
    "# Check the mean of the 'activeDuty' column\n",
    "mean_active_duty = df['activeDuty'].mean()\n",
    "\n",
    "# Print the mean value\n",
    "print(\"Mean of 'activeDuty' column:\", mean_active_duty)\n"
   ]
  },
  {
   "cell_type": "code",
   "execution_count": 9,
   "metadata": {},
   "outputs": [
    {
     "name": "stdout",
     "output_type": "stream",
     "text": [
      "Mean values for selected columns:\n"
     ]
    },
    {
     "data": {
      "text/plain": [
       "activeDuty      119931.964286\n",
       "paramilitary    143765.833333\n",
       "reserves        149421.369048\n",
       "dtype: float64"
      ]
     },
     "execution_count": 9,
     "metadata": {},
     "output_type": "execute_result"
    }
   ],
   "source": [
    "# Calculate the mean for the selected columns\n",
    "df=pd.DataFrame(Army)\n",
    "\n",
    "Mean_Values=df[['activeDuty','paramilitary','reserves']].mean()\n",
    "# Print mean values\n",
    "print(\"Mean values for selected columns:\")\n",
    "Mean_Values\n",
    "\n"
   ]
  },
  {
   "cell_type": "markdown",
   "metadata": {},
   "source": [
    "# MEDIAN"
   ]
  },
  {
   "cell_type": "code",
   "execution_count": 10,
   "metadata": {},
   "outputs": [
    {
     "name": "stdout",
     "output_type": "stream",
     "text": [
      "Median of 'activeDuty' column: 27325.0\n"
     ]
    }
   ],
   "source": [
    "# Check the median of the 'activeDuty' column\n",
    "median_active_duty = df['activeDuty'].median()\n",
    "\n",
    "# Print the median value\n",
    "print(\"Median of 'activeDuty' column:\", median_active_duty)\n"
   ]
  },
  {
   "cell_type": "code",
   "execution_count": 11,
   "metadata": {},
   "outputs": [
    {
     "name": "stdout",
     "output_type": "stream",
     "text": [
      "Median values for selected columns:\n",
      "activeDuty      27325.0\n",
      "paramilitary     5400.0\n",
      "reserves           40.0\n",
      "dtype: float64\n"
     ]
    }
   ],
   "source": [
    "# Check the median for multiple columns\n",
    "median_values = df[['activeDuty', 'paramilitary', 'reserves']].median()\n",
    "\n",
    "# Print median values\n",
    "print(\"Median values for selected columns:\")\n",
    "print(median_values)\n"
   ]
  },
  {
   "cell_type": "markdown",
   "metadata": {},
   "source": [
    "# standard deviation"
   ]
  },
  {
   "cell_type": "code",
   "execution_count": 12,
   "metadata": {},
   "outputs": [
    {
     "data": {
      "text/plain": [
       "activeDuty    273304.117234\n",
       "dtype: float64"
      ]
     },
     "execution_count": 12,
     "metadata": {},
     "output_type": "execute_result"
    }
   ],
   "source": [
    "# Check the median of the 'activeDuty' column\n",
    "df=pd.DataFrame(Army)\n",
    "\n",
    "standard_deviation =df[['activeDuty']].std()\n",
    "standard_deviation"
   ]
  },
  {
   "cell_type": "code",
   "execution_count": 13,
   "metadata": {},
   "outputs": [
    {
     "name": "stdout",
     "output_type": "stream",
     "text": [
      "Standard deviation values for selected columns:\n",
      "activeDuty      273304.117234\n",
      "paramilitary    670451.912302\n",
      "reserves        524444.033175\n",
      "dtype: float64\n"
     ]
    }
   ],
   "source": [
    "# Check the standard deviation for multiple columns\n",
    "std_values = df[['activeDuty', 'paramilitary', 'reserves']].std()\n",
    "\n",
    "# Print standard deviation values\n",
    "print(\"Standard deviation values for selected columns:\")\n",
    "print(std_values)\n"
   ]
  },
  {
   "cell_type": "code",
   "execution_count": 14,
   "metadata": {},
   "outputs": [
    {
     "name": "stdout",
     "output_type": "stream",
     "text": [
      "Count of non-null values in each column:\n",
      "country           168\n",
      "activeDuty        168\n",
      "paramilitary      168\n",
      "reserves          168\n",
      "total             168\n",
      "population2022    168\n",
      "dtype: int64\n",
      "\n",
      "Count of non-null values in 'activeDuty' column: 168\n",
      "\n",
      "Count of non-null values in each row:\n",
      "0      6\n",
      "1      6\n",
      "2      6\n",
      "3      6\n",
      "4      6\n",
      "      ..\n",
      "163    6\n",
      "164    6\n",
      "165    6\n",
      "166    6\n",
      "167    6\n",
      "Length: 168, dtype: int64\n"
     ]
    }
   ],
   "source": [
    "# Here's a simple breakdown:\n",
    "\n",
    "# Null Value: A value that is missing or undefined. In pandas, this is often represented by NaN or None.\n",
    "\n",
    "# Non-Null Value: A value that is present in the dataset and is not missing or undefined.\n",
    "\n",
    "# When you use the count() method in pandas, it counts the number of non-null values in a DataFrame or Series. For example:\n",
    "\n",
    "# Count non-null values in each column\n",
    "column_counts = Army.count()\n",
    "print(\"Count of non-null values in each column:\")\n",
    "print(column_counts)\n",
    "\n",
    "# Count non-null values in a specific column\n",
    "active_duty_count = Army['activeDuty'].count()\n",
    "print(\"\\nCount of non-null values in 'activeDuty' column:\", active_duty_count)\n",
    "\n",
    "# Count non-null values in each row\n",
    "row_counts = Army.count(axis=1)\n",
    "print(\"\\nCount of non-null values in each row:\")\n",
    "print(row_counts)"
   ]
  },
  {
   "cell_type": "code",
   "execution_count": 15,
   "metadata": {},
   "outputs": [
    {
     "data": {
      "text/plain": [
       "'Zimbabwe'"
      ]
     },
     "execution_count": 15,
     "metadata": {},
     "output_type": "execute_result"
    }
   ],
   "source": [
    "# Returns the biggest value in every column\n",
    "Army['country'].max()"
   ]
  },
  {
   "cell_type": "code",
   "execution_count": 16,
   "metadata": {},
   "outputs": [
    {
     "data": {
      "text/plain": [
       "'Afghanistan'"
      ]
     },
     "execution_count": 16,
     "metadata": {},
     "output_type": "execute_result"
    }
   ],
   "source": [
    "# Returns the lowest value in every column\n",
    "Army['country'].min()"
   ]
  },
  {
   "cell_type": "code",
   "execution_count": 17,
   "metadata": {},
   "outputs": [
    {
     "data": {
      "image/png": "[encoded data removed]",
      "text/plain": [
       "<Figure size 400x400 with 1 Axes>"
      ]
     },
     "metadata": {},
     "output_type": "display_data"
    }
   ],
   "source": [
    "import pandas as pd\n",
    "import matplotlib.pyplot as plt\n",
    "\n",
    "# Sample DataFrame\n",
    "data = {\n",
    "    'country':        ['China', 'India', 'United States', 'North Korea', 'Russia'],\n",
    "    'activeDuty':     [2185000, 1455550, 1388100, 1280000, 1014000],\n",
    "    'paramilitary':   [660000, 2526950, 0, 5889000, 554000],\n",
    "    'reserves':       [1170000, 1155000, 844950, 600000, 2000000],\n",
    "    'total':          [4015000, 5137500, 2233050, 7769000, 3568000],\n",
    "    'population2022': [1448471.4, 1406631.776, 334805.269, 25990.679, 145805.947]\n",
    "}\n",
    "\n",
    "Army = pd.DataFrame(data)\n",
    "\n",
    "# Plotting a pie chart based on the 'activeDuty' column\n",
    "plt.figure(figsize=(4, 4))\n",
    "Army.set_index('country')['activeDuty'].plot.pie(autopct='%1.1f%%', startangle=90)\n",
    "\n",
    "plt.title('Active Duty Military Personnel by Country')\n",
    "plt.axis('equal')  # Equal aspect ratio ensures that pie is drawn as a circle.\n",
    "plt.show()\n"
   ]
  }
 ],
 "metadata": {
  "kernelspec": {
   "display_name": "Python 3",
   "language": "python",
   "name": "python3"
  },
  "language_info": {
   "codemirror_mode": {
    "name": "ipython",
    "version": 3
   },
   "file_extension": ".py",
   "mimetype": "text/x-python",
   "name": "python",
   "nbconvert_exporter": "python",
   "pygments_lexer": "ipython3",
   "version": "3.11.4"
  },
  "orig_nbformat": 4
 },
 "nbformat": 4,
 "nbformat_minor": 2
}
